{
 "cells": [
  {
   "cell_type": "markdown",
   "id": "fab8d034",
   "metadata": {},
   "source": [
    "# Write a program to reverse an array or string\n"
   ]
  },
  {
   "cell_type": "markdown",
   "id": "e0583888",
   "metadata": {},
   "source": [
    "Input  : arr[] = {1, 2, 3}\n",
    "Output : arr[] = {3, 2, 1}\n",
    "\n",
    "Input :  arr[] = {4, 5, 1, 2}\n",
    "Output : arr[] = {2, 1, 5, 4}"
   ]
  },
  {
   "cell_type": "markdown",
   "id": "3d94162a",
   "metadata": {},
   "source": [
    "Iterative way\n",
    "\n",
    "\n",
    "1) Initialize start and end indexes as start = 0, end = n-1 \n",
    "\n",
    "2) In a loop, swap arr[start] with arr[end] and change start and end as follows : \n",
    "\n",
    "start = start +1, end = end – 1"
   ]
  },
  {
   "cell_type": "code",
   "execution_count": 1,
   "id": "3fe0b861",
   "metadata": {},
   "outputs": [
    {
     "name": "stdout",
     "output_type": "stream",
     "text": [
      "[1, 2, 3, 4, 5, 6]\n",
      "Reversed list is\n",
      "[6, 5, 4, 3, 2, 1]\n"
     ]
    }
   ],
   "source": [
    "# Iterative python program to reverse an array\n",
    " \n",
    "# Function to reverse A[] from start to end\n",
    "def reverseList(A, start, end):\n",
    "    while start < end:\n",
    "        A[start], A[end] = A[end], A[start]\n",
    "        start += 1\n",
    "        end -= 1\n",
    " \n",
    "# Driver function to test above function\n",
    "A = [1, 2, 3, 4, 5, 6]\n",
    "print(A)\n",
    "reverseList(A, 0, 5)\n",
    "print(\"Reversed list is\")\n",
    "print(A)\n",
    "# This program is contributed by Pratik Chhajer"
   ]
  },
  {
   "cell_type": "code",
   "execution_count": null,
   "id": "90c3e1e1",
   "metadata": {},
   "outputs": [],
   "source": []
  }
 ],
 "metadata": {
  "kernelspec": {
   "display_name": "Python 3",
   "language": "python",
   "name": "python3"
  },
  "language_info": {
   "codemirror_mode": {
    "name": "ipython",
    "version": 3
   },
   "file_extension": ".py",
   "mimetype": "text/x-python",
   "name": "python",
   "nbconvert_exporter": "python",
   "pygments_lexer": "ipython3",
   "version": "3.7.10"
  }
 },
 "nbformat": 4,
 "nbformat_minor": 5
}
